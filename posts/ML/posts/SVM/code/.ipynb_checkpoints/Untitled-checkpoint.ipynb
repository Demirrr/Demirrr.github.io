{
 "cells": [
  {
   "cell_type": "code",
   "execution_count": 3,
   "metadata": {},
   "outputs": [],
   "source": [
    "import numpy as np\n",
    "from matplotlib import pyplot as plt\n",
    "\n",
    "X = np.array([\n",
    "    [-2,  4, -1],\n",
    "    [ 4,  1, -1],\n",
    "    [ 1,  6, -1],\n",
    "    [ 2,  4, -1],\n",
    "    [ 6,  2, -1],\n",
    "])\n",
    "\n",
    "y = np.array([-1,-1,1,1,1])\n",
    "\n",
    "\n"
   ]
  },
  {
   "cell_type": "code",
   "execution_count": 4,
   "metadata": {
    "collapsed": true
   },
   "outputs": [],
   "source": [
    "# lets perform stochastic gradient descent to learn the seperating hyperplane between both classes\n",
    "def svm_sgd_plot( X, Y ):\n",
    "    # Initialize our SVMs weight vector with zeros (3 values)\n",
    "    w = np.zeros(len(X[ 0 ]))\n",
    "    # The learning rate\n",
    "    eta = 1\n",
    "    # how many iterations to train for\n",
    "    epochs = 100000\n",
    "    # store misclassifications so we can plot how they change over time\n",
    "    errors = [ ]\n",
    "\n",
    "    # training part, gradient descent part\n",
    "    for epoch in range(1, epochs):\n",
    "        error = 0\n",
    "        for i, x in enumerate(X):\n",
    "            # misclassification\n",
    "            if (Y[ i ] * np.dot(X[ i ], w)) < 1:\n",
    "                # misclassified update for ours weights\n",
    "                w = w + eta * ((X[ i ] * Y[ i ]) + (-2 * (1 / epoch) * w))\n",
    "                error = 1\n",
    "            else:\n",
    "                # correct classification, update our weights\n",
    "                w = w + eta * (-2 * (1 / epoch) * w)\n",
    "        errors.append(error)\n",
    "\n",
    "    return w"
   ]
  },
  {
   "cell_type": "code",
   "execution_count": 5,
   "metadata": {
    "collapsed": true
   },
   "outputs": [],
   "source": [
    "w = svm_sgd_plot(X,y)\n"
   ]
  },
  {
   "cell_type": "code",
   "execution_count": 6,
   "metadata": {},
   "outputs": [
    {
     "data": {
      "text/plain": [
       "[]"
      ]
     },
     "execution_count": 6,
     "metadata": {},
     "output_type": "execute_result"
    }
   ],
   "source": [
    "\n",
    "\n",
    "\n",
    "for d, sample in enumerate(X):\n",
    "    # Plot the negative samples\n",
    "    if d < 2:\n",
    "        plt.scatter(sample[0], sample[1], s=120, marker='_', linewidths=2)\n",
    "    # Plot the positive samples\n",
    "    else:\n",
    "        plt.scatter(sample[0], sample[1], s=120, marker='+', linewidths=2)\n",
    "\n",
    "# Add our test samples\n",
    "plt.scatter(2, 2, s=120, marker='_', linewidths=2, color='yellow')\n",
    "plt.scatter(4, 3, s=120, marker='+', linewidths=2, color='blue')\n",
    "plt.plot()\n"
   ]
  },
  {
   "cell_type": "code",
   "execution_count": 7,
   "metadata": {},
   "outputs": [
    {
     "data": {
      "image/png": "[encoded data removed]",
      "text/plain": [
       "<matplotlib.figure.Figure at 0x7fe9046bd208>"
      ]
     },
     "metadata": {},
     "output_type": "display_data"
    }
   ],
   "source": [
    "# Print the hyperplane calculated by svm_sgd()\n",
    "x2=[w[0], w[1], -w[1],  w[0]]\n",
    "x3=[w[0], w[1], w[1] , -w[0]]\n",
    "\n",
    "x2x3 =np.array([x2,x3])\n",
    "X,Y,U,V = zip(*x2x3)\n",
    "ax = plt.gca()\n",
    "ax.quiver(X,Y,U,V,scale=1, color='blue')\n",
    "ax.plot()\n",
    "plt.show()"
   ]
  }
 ],
 "metadata": {
  "kernelspec": {
   "display_name": "Python [conda root]",
   "language": "python",
   "name": "conda-root-py"
  },
  "language_info": {
   "codemirror_mode": {
    "name": "ipython",
    "version": 3
   },
   "file_extension": ".py",
   "mimetype": "text/x-python",
   "name": "python",
   "nbconvert_exporter": "python",
   "pygments_lexer": "ipython3",
   "version": "3.6.3"
  }
 },
 "nbformat": 4,
 "nbformat_minor": 2
}
