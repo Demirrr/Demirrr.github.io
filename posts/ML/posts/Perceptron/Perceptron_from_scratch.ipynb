{
 "cells": [
  {
   "cell_type": "markdown",
   "metadata": {},
   "source": [
    "# Understanding of the Perceptron"
   ]
  },
  {
   "cell_type": "markdown",
   "metadata": {},
   "source": [
    "In this tutorial, you will be learing the perceptron algorithm. After brief history of the perceptron algorithm and its importance in Artificial Intelligence is explained, you will learn how to implement the perceptron algorithm from scratch.\n"
   ]
  },
  {
   "cell_type": "markdown",
   "metadata": {},
   "source": [
    "### History of the Perceptron\n",
    "\n",
    "The perceptron algorithm is one of the most important and oldest algorithm in Artificial Intelligence. There has not been any prominent book related to Artificial Intelligence and Machine learning in which the perceptron algortihm has not been explained thoroughly, such as\n",
    "    <a href=\"http://aima.cs.berkeley.edu/\">\n",
    "      Artificial Intelligence: A Modern Approach</a>,\n",
    "    <a href=\"https://work.caltech.edu/telecourse.html\">\n",
    "       Learning From Data</a>,\n",
    "    <a href=\"https://work.caltech.edu/telecourse.html\">\n",
    "       Pattern Recognition and Machine Learning</a>,\n",
    "    <a href=\"https://mitpress.mit.edu/books/introduction-machine-learning\">\n",
    "       Introduction to Machine Learning</a>."
   ]
  },
  {
   "cell_type": "markdown",
   "metadata": {},
   "source": [
    "###  The Perceptron\n",
    "\n",
    "Consider a binary classification problem with $X = \\mathbb{R}^d$ and \n",
    "$Y=\\left\\{-1,+1\\right\\}$. The hypothesis space $\\textbf{H}$ of the perceptron consists of all functions of the form <br><br>\n",
    "$ h : \\textbf{x} \\longmapsto sign\\left\\{ b + \\sum_{n=i}^{d} w_i x_i \\right\\}$, where sign(s) =$\\left\\{\\textrm{ +1 if s > 0, otherwise -1 }\\right\\}$.\n",
    "          \n"
   ]
  },
  {
   "cell_type": "markdown",
   "metadata": {},
   "source": [
    "#### The Perceptron Convergence Theorem\n",
    "\n",
    "The perceptron covergence theorem says that the learning algorithm can adjust the connection strengths of a perceptron to match any input data, $\\textbf{provided such a match exists}$. This means that,\n",
    "\n",
    "The perceptron learning rule converges to a perfect linear separator when the data points are linearly separpable. \n",
    "As it is seen in the an illustration of AND, OR gates,\n",
    "the perceptron learning rule finds a perfect linear separator in AND and OR gates, while it fails in XOR gate.\n",
    "\n",
    "<br>\n",
    "The perceptron algorithm updates its weight/coefficient vector if current weight vector leads to a missclassifaction fo the training example or more specifcally as follows:<br><br>\n",
    "$$\\textrm{if }y_i (w_t\\cdot x_t) < 0 \\textrm{, then: }$$\n",
    "\n",
    "$$w_{t+1}\\leftarrow w_{t}+ y_t x_t$$ <br>\n",
    "Consequently, the solution is always a linear combination of the training instances:\n",
    "$\\textbf{w} = \\sum_{i} a_i y_i x_i$,$ $ with positive coefficients $a_i>0$. This notion plays also important role in\n",
    "<a href=\"https://youtu.be/_PwhiWxHK8o?t=27m58s\">Kernalization of SVM</a>. More specifically, The decision function can be expressed in terms of a dual representation, since the training instances only appear inside dot products: <br>\n",
    "\n",
    "$$f(x)=(w_t\\cdot x_t) = \\sum_{i} \\alpha _i y_i (x_i\\cdot x)$$\n",
    "\n",
    "\n",
    "\n",
    "\n",
    "\n"
   ]
  },
  {
   "cell_type": "code",
   "execution_count": 142,
   "metadata": {},
   "outputs": [
    {
     "data": {
      "image/png": "[encoded data removed]",
      "text/plain": [
       "<matplotlib.figure.Figure at 0x7fe9f7a2fc50>"
      ]
     },
     "metadata": {},
     "output_type": "display_data"
    },
    {
     "data": {
      "image/png": "[encoded data removed]",
      "text/plain": [
       "<matplotlib.figure.Figure at 0x7fe9f7b951d0>"
      ]
     },
     "metadata": {},
     "output_type": "display_data"
    }
   ],
   "source": [
    "def displayOR_gate():\n",
    "    import numpy as np\n",
    "    import matplotlib.pyplot as plt\n",
    "    \n",
    "    X = np.array([[0, 0], [0, 1], [1, 0], [1, 1]])\n",
    "    Y = np.array([0, 1, 1, 1])\n",
    "    col = np.where(Y == 1, 'b', 'r')\n",
    "    plt.scatter(X[:, 0], X[:, 1], c=col, s=30)\n",
    "    plt.xlabel('Input 1')\n",
    "    plt.ylabel('Input 2')\n",
    "    plt.title('Outputs of OR Gate')\n",
    "    plt.axis('tight')\n",
    "    plt.show()\n",
    "    \n",
    "def displayAND_gate():\n",
    "    import numpy as np\n",
    "    import matplotlib.pyplot as plt\n",
    "    \n",
    "    X = np.array([[0, 0], [0, 1], [1, 0], [1, 1]])\n",
    "    Y = np.array([0, 0, 0, 1])\n",
    "    col = np.where(Y == 1, 'b', 'r')\n",
    "    plt.scatter(X[:, 0], X[:, 1], c=col, s=30)\n",
    "    plt.xlabel('Input 1')\n",
    "    plt.ylabel('Input 2')\n",
    "    plt.title('Outputs of AND Gate')\n",
    "    plt.axis('tight')\n",
    "    plt.show()\n",
    "    \n",
    "\n",
    "\n",
    "\n",
    "displayOR_gate()\n",
    "displayAND_gate()"
   ]
  },
  {
   "cell_type": "markdown",
   "metadata": {},
   "source": [
    "As both plots show that both datasets are linearly separable. However in the below, one can see that perceptron algorithm can not solve XOR Gate.\n"
   ]
  },
  {
   "cell_type": "code",
   "execution_count": null,
   "metadata": {},
   "outputs": [],
   "source": []
  },
  {
   "cell_type": "code",
   "execution_count": 143,
   "metadata": {},
   "outputs": [
    {
     "data": {
      "image/png": "[encoded data removed]",
      "text/plain": [
       "<matplotlib.figure.Figure at 0x7fe9f7b795f8>"
      ]
     },
     "metadata": {},
     "output_type": "display_data"
    }
   ],
   "source": [
    "\n",
    "def displayXOR_gate():\n",
    "    import numpy as np\n",
    "    import matplotlib.pyplot as plt\n",
    "    \n",
    "    X = np.array([[0, 0], [0, 1], [1, 0], [1, 1]])\n",
    "    Y = np.array([0, 1, 1, 0])\n",
    "    col = np.where(Y == 1, 'b', 'r')\n",
    "    plt.scatter(X[:, 0], X[:, 1], c=col, s=30)\n",
    "    plt.xlabel('Input 1')\n",
    "    plt.ylabel('Input 2')\n",
    "    plt.title('Outputs of XOR Gate')\n",
    "    plt.axis('tight')\n",
    "    plt.show()\n",
    "    \n",
    "    \n",
    "    \n",
    "displayXOR_gate()"
   ]
  },
  {
   "cell_type": "code",
   "execution_count": null,
   "metadata": {},
   "outputs": [],
   "source": []
  },
  {
   "cell_type": "code",
   "execution_count": 144,
   "metadata": {},
   "outputs": [],
   "source": [
    "import numpy as np\n",
    "import random\n",
    "import matplotlib.pyplot as plt"
   ]
  },
  {
   "cell_type": "code",
   "execution_count": 145,
   "metadata": {},
   "outputs": [],
   "source": [
    "class Perceptron():\n",
    "    def __init__( self ):\n",
    "        self.weights = np.random.rand(3)\n",
    "    def respond( self, x ):\n",
    "        #w( t )+(y ( y )−ŷ x( t )↦w(t+1)w( t )+(y ( y )−y^x( t )↦w(t+1)\n",
    "        prediction = np.dot(self.weights, x)\n",
    "        if prediction > 0:\n",
    "            return 1\n",
    "        else:\n",
    "            return 0\n",
    "        \n",
    "    def updateWeights( self, x, y, prediction ):\n",
    "        self.weights = self.weights + (y - prediction) * x\n",
    "\n",
    "    def train( self, X, Y ):\n",
    "        learned = False\n",
    "        iteration = 0\n",
    "        #fig, ax = plt.subplots()\n",
    "\n",
    "        while iteration < 1000:\n",
    "            globalError = 0\n",
    "            for i in range(0, X.shape[ 0 ]):\n",
    "                prediction = self.respond(X[ i ])\n",
    "                if prediction != Y[ i ]:\n",
    "                    self.updateWeights(X[ i ], Y[ i ], prediction)\n",
    "                    globalError += 1\n",
    "                    #self.drawHyperplane(X, Y,iteration)\n",
    "                iteration += 1\n",
    "\n",
    "            if globalError == 0:\n",
    "                learned = True\n",
    "                break\n",
    "                #self.drawHyperplane(X, Y,iteration)\n",
    "                \n",
    "        if learned == False:\n",
    "            print(\"The perceptron algorithm could not converge!\")\n",
    "                       \n",
    "    def drawHyperplane( self, X, Y,iteration):\n",
    "\n",
    "        a = - self.weights[1] / self.weights[2]\n",
    "        xx = np.linspace(-0.1, 1.1,num=100)\n",
    "        yy = a * xx - self.weights[0] / self.weights[2]\n",
    "        col = np.where(Y > 0, 'b', 'r')\n",
    "        plt.cla()\n",
    "        plt.scatter(X[:, 1], X[:, 2], c=col, s=10)\n",
    "        plt.plot(xx, yy, 'k-')\n",
    "        plt.title(iteration)\n",
    "        plt.xlabel('Input 1')\n",
    "        plt.ylabel('Input 2')\n",
    "        plt.axis('tight')\n",
    "        plt.draw()\n",
    "        plt.pause(0.1)\n",
    "    "
   ]
  },
  {
   "cell_type": "code",
   "execution_count": 146,
   "metadata": {},
   "outputs": [],
   "source": [
    "def displayDatapoints( X, Y ):\n",
    "    col = np.where(Y > 0, 'b', 'r')\n",
    "    plt.scatter(X[ :, 1 ], X[ :, 2 ], c=col, s=10)\n",
    "    plt.xlabel('Input 1')\n",
    "    plt.ylabel('Input 2')\n",
    "    plt.axis('tight')\n",
    "    plt.show()"
   ]
  },
  {
   "cell_type": "code",
   "execution_count": 147,
   "metadata": {},
   "outputs": [],
   "source": [
    "def Test( p, X, Y,gate):\n",
    "    p.drawHyperplane(X,Y,gate)\n",
    "    for i in range(0, X.shape[ 0 ]):\n",
    "        print(\"Prediction \", p.respond(X[ i ]))\n",
    "        print(\"Truth    \", Y[ i ])"
   ]
  },
  {
   "cell_type": "code",
   "execution_count": 148,
   "metadata": {
    "scrolled": true
   },
   "outputs": [
    {
     "data": {
      "image/png": "[encoded data removed]",
      "text/plain": [
       "<matplotlib.figure.Figure at 0x7fe9f7cb5cf8>"
      ]
     },
     "metadata": {},
     "output_type": "display_data"
    }
   ],
   "source": [
    "\n",
    "##Linearly sepearable Data\n",
    "#First colum is for the bias term\n",
    "OR_Gate_Input = np.array([[1,0, 0], [1,0, 1], [1,1, 0], [1, 1, 1]])\n",
    "OR_Gate_Output = np.array([0, 1, 1, 1])\n",
    "displayDatapoints(OR_Gate_Input, OR_Gate_Output)\n"
   ]
  },
  {
   "cell_type": "code",
   "execution_count": 149,
   "metadata": {},
   "outputs": [
    {
     "data": {
      "image/png": "[encoded data removed]",
      "text/plain": [
       "<matplotlib.figure.Figure at 0x7fe9f7f46ba8>"
      ]
     },
     "metadata": {},
     "output_type": "display_data"
    },
    {
     "name": "stdout",
     "output_type": "stream",
     "text": [
      "Prediction  0\n",
      "Truth     0\n",
      "Prediction  1\n",
      "Truth     1\n",
      "Prediction  1\n",
      "Truth     1\n",
      "Prediction  1\n",
      "Truth     1\n"
     ]
    }
   ],
   "source": [
    "p = Perceptron()\n",
    "p.train(OR_Gate_Input, OR_Gate_Output)\n",
    "Test(p, OR_Gate_Input, OR_Gate_Output,\"OR Gate\")"
   ]
  },
  {
   "cell_type": "code",
   "execution_count": null,
   "metadata": {},
   "outputs": [],
   "source": []
  },
  {
   "cell_type": "code",
   "execution_count": 150,
   "metadata": {},
   "outputs": [
    {
     "data": {
      "image/png": "[encoded data removed]",
      "text/plain": [
       "<matplotlib.figure.Figure at 0x7fe9f7c6c780>"
      ]
     },
     "metadata": {},
     "output_type": "display_data"
    },
    {
     "name": "stdout",
     "output_type": "stream",
     "text": [
      "Prediction  0\n",
      "Truth     0\n",
      "Prediction  0\n",
      "Truth     0\n",
      "Prediction  0\n",
      "Truth     0\n",
      "Prediction  1\n",
      "Truth     1\n"
     ]
    }
   ],
   "source": [
    "p = Perceptron()\n",
    "AND_Gate_Input = np.array([[1,0, 0], [1,0, 1], [1,1, 0], [1,1, 1]])\n",
    "AND_Gate_Output = np.array([0, 0, 0, 1])\n",
    "p.train(AND_Gate_Input, AND_Gate_Output)\n",
    "Test(p, AND_Gate_Input, AND_Gate_Output,\"AND GATE\")"
   ]
  },
  {
   "cell_type": "code",
   "execution_count": 151,
   "metadata": {},
   "outputs": [
    {
     "name": "stdout",
     "output_type": "stream",
     "text": [
      "The perceptron algorithm could not converge!\n"
     ]
    },
    {
     "data": {
      "image/png": "[encoded data removed]",
      "text/plain": [
       "<matplotlib.figure.Figure at 0x7fe9f7c6c668>"
      ]
     },
     "metadata": {},
     "output_type": "display_data"
    },
    {
     "name": "stdout",
     "output_type": "stream",
     "text": [
      "Prediction  1\n",
      "Truth     0\n",
      "Prediction  1\n",
      "Truth     1\n",
      "Prediction  0\n",
      "Truth     1\n",
      "Prediction  1\n",
      "Truth     0\n"
     ]
    }
   ],
   "source": [
    "p = Perceptron()\n",
    "XOR_Gate_Input = np.array([[1, 0, 0], [1, 0, 1], [1, 1, 0], [1, 1, 1]])\n",
    "XOR_Gate_Output = np.array([0, 1, 1, 0])\n",
    "p.train(XOR_Gate_Input, XOR_Gate_Output)\n",
    "Test(p, XOR_Gate_Input, XOR_Gate_Output,\"XOR GATE\")"
   ]
  },
  {
   "cell_type": "markdown",
   "metadata": {},
   "source": [
    "### SVM with Polynomial Kernel"
   ]
  },
  {
   "cell_type": "code",
   "execution_count": 152,
   "metadata": {},
   "outputs": [
    {
     "data": {
      "image/png": "[encoded data removed]",
      "text/plain": [
       "<matplotlib.figure.Figure at 0x7fe9f7b26278>"
      ]
     },
     "metadata": {},
     "output_type": "display_data"
    }
   ],
   "source": [
    "import pandas as pd\n",
    "from sklearn import svm\n",
    "\n",
    "X = pd.DataFrame(np.array([[0, 0], [ 0, 1], [1, 0], [1, 1]]))\n",
    "y = pd.Series(XOR_Gate_Output)\n",
    "\n",
    "col = np.where(y>0,'b','r')\n",
    "\n",
    "plt.scatter(X.iloc[:,0],X.iloc[:,1],c=col,)\n",
    "plt.show()\n"
   ]
  },
  {
   "cell_type": "code",
   "execution_count": 153,
   "metadata": {},
   "outputs": [],
   "source": [
    "def plot(kernel,C):\n",
    "    model = svm.SVC(kernel=kernel)\n",
    "\n",
    "    model.fit(X, y)\n",
    "    plt.scatter(X.iloc[ :, 0], X.iloc[ :, 1 ], c=col, s=30, cmap=plt.cm.Paired)\n",
    "    # plot the decision function\n",
    "    ax = plt.gca()\n",
    "    xlim = ax.get_xlim()\n",
    "    ylim = ax.get_ylim()\n",
    "    # create grid to evaluate model\n",
    "    xx = np.linspace(xlim[ 0 ], xlim[ 1 ], 30)\n",
    "    yy = np.linspace(ylim[ 0 ], ylim[ 1 ], 30)\n",
    "    YY, XX = np.meshgrid(yy, xx)\n",
    "    xy = np.vstack([ XX.ravel(), YY.ravel() ]).T\n",
    "    Z = model.decision_function(xy).reshape(XX.shape)\n",
    "    # plot decision boundary and margins\n",
    "    ax.contour(XX, YY, Z, colors='k', levels=[ -1, 0, 1 ], alpha=0.5, linestyles=[ '--', '-', '--' ])\n",
    "    # plot support vectors\n",
    "    ax.scatter(model.support_vectors_[ :, 0 ], model.support_vectors_[ :, 1 ], linewidth=1, facecolors='none')\n",
    "    plt.show()"
   ]
  },
  {
   "cell_type": "code",
   "execution_count": 154,
   "metadata": {},
   "outputs": [
    {
     "data": {
      "image/png": "[encoded data removed]",
      "text/plain": [
       "<matplotlib.figure.Figure at 0x7fe9f7e5f9e8>"
      ]
     },
     "metadata": {},
     "output_type": "display_data"
    },
    {
     "data": {
      "image/png": "[encoded data removed]",
      "text/plain": [
       "<matplotlib.figure.Figure at 0x7fe9f7d04320>"
      ]
     },
     "metadata": {},
     "output_type": "display_data"
    }
   ],
   "source": [
    "#plot(\"linear\", 0.5)\n",
    "plot(\"poly\",0.2)\n",
    "plot(\"rbf\", 1)\n",
    "\n"
   ]
  },
  {
   "cell_type": "code",
   "execution_count": null,
   "metadata": {},
   "outputs": [],
   "source": []
  },
  {
   "cell_type": "code",
   "execution_count": null,
   "metadata": {},
   "outputs": [],
   "source": []
  }
 ],
 "metadata": {
  "kernelspec": {
   "display_name": "Python [conda root]",
   "language": "python",
   "name": "conda-root-py"
  },
  "language_info": {
   "codemirror_mode": {
    "name": "ipython",
    "version": 3
   },
   "file_extension": ".py",
   "mimetype": "text/x-python",
   "name": "python",
   "nbconvert_exporter": "python",
   "pygments_lexer": "ipython3",
   "version": "3.6.4"
  }
 },
 "nbformat": 4,
 "nbformat_minor": 2
}
