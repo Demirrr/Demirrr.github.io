{
 "cells": [
  {
   "cell_type": "markdown",
   "metadata": {},
   "source": [
    "# Understanding of the Perceptron"
   ]
  },
  {
   "cell_type": "markdown",
   "metadata": {},
   "source": [
    "In this tutorial, you will be learing the perceptron algorithm throughly. Firstly, brief history of the perceptron algorithm and its importance in AI is explained. Thereafter, you will learn how to implement the perceptron algorithm from scratch.\n"
   ]
  },
  {
   "cell_type": "markdown",
   "metadata": {},
   "source": [
    "### History of the Perceptron\n",
    "\n",
    "The perceptron algorithm is one of the most important and oldest algorithm in Artificial Intelligence. There has not been any prominent books related to AI and Machine learning in which the perceptron algortihm has not been explained thoroughly, e.g.\n",
    "    <a href=\"http://aima.cs.berkeley.edu/\">\n",
    "      Artificial Intelligence: A Modern Approach</a> Peter Norvig,\n",
    "    <a href=\"https://work.caltech.edu/telecourse.html\">\n",
    "       Learning From Data</a> Yaser.Abu-Mostafa,\n",
    "    <a href=\"https://work.caltech.edu/telecourse.html\">\n",
    "       Pattern Recognition and Machine Learning</a>, Christopher Bishop\n",
    "    <a href=\"https://mitpress.mit.edu/books/introduction-machine-learning\">\n",
    "       Introduction to Machine Learning</a> Ethem Alpaydin.\n",
    "       \n",
    "Famous american psychologist F.Rosenblatt has published a work whose title is the perceptron a perceiving and recognizing Automaton in Januar 1957. \n",
    "\n",
    "Marving Minsky and Papert's book of Perceptrons in 1969 proved that perceptrons which is called a simple form of neural network, could learn anything which perceptrons are capable of representing."
   ]
  },
  {
   "cell_type": "markdown",
   "metadata": {},
   "source": [
    "###  The Perceptron\n",
    "\n",
    "Consider a binary classification problem with $X = \\mathbb{R}^d$ and \n",
    "$Y=\\left\\{-1,+1\\right\\}$. The hypothesis space $\\textbf{H}$ of the perceptron consists of all functions of the form $ \\\\ $\n",
    "$ h : \\textbf{x} \\longmapsto sign\\left\\{ b + \\sum_{n=i}^{d} w_i x_i \\right\\}$, $ \\\\ $where sign(s) =$\\left\\{\\textrm{ +1 if s > 0, otherwise -1 }\\right\\}$.\n",
    "          \n"
   ]
  },
  {
   "cell_type": "markdown",
   "metadata": {},
   "source": [
    "#### The Perceptron Convergence Theorem\n",
    "\n",
    "The perceptron covergence theorem says that the learning algorithm can adjust the connection strengths of a perceptron to match any input data, $\\textbf{provided such a match exists}$.\n",
    "The perceptron learning rule converges to a perfect linear separator when the data points are linearly separpable.\n",
    "\n",
    "NOTE TO ME\n",
    "\n",
    "AND GATE OR GATE works but XOR does not\n"
   ]
  },
  {
   "cell_type": "code",
   "execution_count": null,
   "metadata": {},
   "outputs": [],
   "source": []
  },
  {
   "cell_type": "markdown",
   "metadata": {},
   "source": [
    "#### The Perceptron Update Rule\n",
    "\n",
    "$ \\textrm{w( t + 1 )} := \\textrm{ w( t )}+\\textrm{(y ( t )} - \\hat y ) \\textrm{x( t )}$, $$$$\n",
    "where $\\hat y=sign\\textrm{( } w^T \\textrm{( t ) x( t ))}$\n",
    "\n",
    "The solution is always a linear combination of the traning instances:$$$$\n",
    "$\\textbf{w} = \\sum_{i} a_i y_i x_i$,$ $ with positive coefficients $a_i>0$. This notion plays also important role in.\n",
    "<a href=\"https://youtu.be/_PwhiWxHK8o?t=27m58s\">SVM</a>.\n",
    "\n",
    "\n"
   ]
  },
  {
   "cell_type": "code",
   "execution_count": 3,
   "metadata": {},
   "outputs": [],
   "source": [
    "import numpy as np\n",
    "import random\n",
    "import matplotlib.pyplot as plt"
   ]
  },
  {
   "cell_type": "code",
   "execution_count": 4,
   "metadata": {},
   "outputs": [],
   "source": [
    "class Perceptron():\n",
    "    def __init__( self ):\n",
    "        self.weights = np.random.rand(3)\n",
    "    \n",
    "    def respond( self, x ):\n",
    "        #w( t )+(y ( y )−ŷ x( t )↦w(t+1)w( t )+(y ( y )−y^x( t )↦w(t+1)\n",
    "        prediction = np.dot(self.weights, x)\n",
    "        if prediction >= 0:\n",
    "            return 1\n",
    "        else:\n",
    "            return -1\n",
    "        \n",
    "    def updateWeights( self, x, y, prediction ):\n",
    "        self.weights = self.weights + (y - prediction) * x\n",
    "\n",
    "    def train( self, X, Y ):\n",
    "        learned = False\n",
    "        iteration = 0\n",
    "        #fig, ax = plt.subplots()\n",
    "\n",
    "        while not learned or iteration < 1000:\n",
    "            globalError = 0\n",
    "            for i in range(0, X.shape[ 0 ]):\n",
    "                prediction = self.respond(X[ i ])\n",
    "                if prediction != Y[ i ]:\n",
    "                    self.updateWeights(X[ i ], Y[ i ], prediction)\n",
    "                    globalError += 1\n",
    "                    #self.drawHyperplane(X, Y,iteration)\n",
    "                iteration += 1\n",
    "\n",
    "            if globalError == 0:\n",
    "                learned = True\n",
    "                #self.drawHyperplane(X, Y,iteration)\n",
    "                       \n",
    "    def drawHyperplane( self, X, Y,iteration):\n",
    "\n",
    "        a = - self.weights[1] / self.weights[2]\n",
    "        xx = np.linspace(0, 5)\n",
    "        yy = a * xx - self.weights[0] / self.weights[2]\n",
    "        col = np.where(Y > 0, 'b', 'r')\n",
    "        plt.cla()\n",
    "        plt.scatter(X[:, 1], X[:, 2], c=col, s=10)\n",
    "        plt.plot(xx, yy, 'k-')\n",
    "        plt.title(iteration)\n",
    "        plt.xlabel('Feature 1')\n",
    "        plt.ylabel('Feature 2')\n",
    "        plt.axis('tight')\n",
    "        plt.draw()\n",
    "        plt.pause(0.1)\n",
    "    "
   ]
  },
  {
   "cell_type": "code",
   "execution_count": 5,
   "metadata": {},
   "outputs": [],
   "source": [
    "def displayDatapoints( X, Y ):\n",
    "    col = np.where(Y > 0, 'b', 'r')\n",
    "    plt.scatter(X[ :, 1 ], X[ :, 2 ], c=col, s=10)\n",
    "    plt.xlabel('Feature 1')\n",
    "    plt.ylabel('Feature 2')\n",
    "    plt.axis('tight')\n",
    "    plt.show()"
   ]
  },
  {
   "cell_type": "code",
   "execution_count": 20,
   "metadata": {},
   "outputs": [],
   "source": [
    "def Test( p, X, Y ):\n",
    "    p.drawHyperplane(X,Y,\"Final\")\n",
    "    for i in range(0, X.shape[ 0 ]):\n",
    "        print(\"Prediction \", p.respond(X[ i ]))\n",
    "        print(\"Truth    \", Y[ i ])"
   ]
  },
  {
   "cell_type": "code",
   "execution_count": 21,
   "metadata": {},
   "outputs": [
    {
     "data": {
      "image/png": "[encoded data removed]",
      "text/plain": [
       "<matplotlib.figure.Figure at 0x7fe810796dd8>"
      ]
     },
     "metadata": {},
     "output_type": "display_data"
    }
   ],
   "source": [
    "\n",
    "##Linearly sepearable Data\n",
    "#First colum is for the bias term\n",
    "X = np.array([ [ 1, 1, 4 ], [ 1, 3, 1 ], [ 1, 2.5, 3 ], [ 1, 4, 4 ], [ 1, 3, 5 ], [ 1, 5, 3 ], ])\n",
    "Y = np.array([ -1, -1, -1, 1, 1, 1 ])\n",
    "\n",
    "displayDatapoints(X, Y)\n"
   ]
  },
  {
   "cell_type": "code",
   "execution_count": 22,
   "metadata": {},
   "outputs": [],
   "source": [
    "p = Perceptron()\n",
    "p.train(X, Y)"
   ]
  },
  {
   "cell_type": "code",
   "execution_count": 23,
   "metadata": {},
   "outputs": [
    {
     "data": {
      "image/png": "[encoded data removed]",
      "text/plain": [
       "<matplotlib.figure.Figure at 0x7fe8107f6f60>"
      ]
     },
     "metadata": {},
     "output_type": "display_data"
    },
    {
     "name": "stdout",
     "output_type": "stream",
     "text": [
      "Prediction  -1\n",
      "Truth     -1\n",
      "Prediction  -1\n",
      "Truth     -1\n",
      "Prediction  -1\n",
      "Truth     -1\n",
      "Prediction  1\n",
      "Truth     1\n",
      "Prediction  1\n",
      "Truth     1\n",
      "Prediction  1\n",
      "Truth     1\n"
     ]
    }
   ],
   "source": [
    "Test(p, X, Y)"
   ]
  },
  {
   "cell_type": "code",
   "execution_count": null,
   "metadata": {},
   "outputs": [],
   "source": []
  },
  {
   "cell_type": "code",
   "execution_count": null,
   "metadata": {},
   "outputs": [],
   "source": []
  }
 ],
 "metadata": {
  "kernelspec": {
   "display_name": "Python [conda root]",
   "language": "python",
   "name": "conda-root-py"
  },
  "language_info": {
   "codemirror_mode": {
    "name": "ipython",
    "version": 3
   },
   "file_extension": ".py",
   "mimetype": "text/x-python",
   "name": "python",
   "nbconvert_exporter": "python",
   "pygments_lexer": "ipython3",
   "version": "3.6.4"
  }
 },
 "nbformat": 4,
 "nbformat_minor": 2
}
