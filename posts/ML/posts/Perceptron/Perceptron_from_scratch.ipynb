{
 "cells": [
  {
   "cell_type": "code",
   "execution_count": 38,
   "metadata": {
    "collapsed": true
   },
   "outputs": [],
   "source": [
    "import numpy as np\n",
    "import random\n",
    "import matplotlib.pyplot as plt"
   ]
  },
  {
   "cell_type": "code",
   "execution_count": null,
   "metadata": {
    "collapsed": true
   },
   "outputs": [],
   "source": []
  },
  {
   "cell_type": "code",
   "execution_count": 39,
   "metadata": {},
   "outputs": [],
   "source": [
    "class Perceptron():\n",
    "    def __init__( self, b=0, max_iter=1000 ):\n",
    "        self.max_iter = max_iter\n",
    "        self.w = [ ]\n",
    "        self.b = 0\n",
    "        self.no_examples = 0\n",
    "        self.no_features = 0\n",
    "\n",
    "    def train( self, X, Y ):\n",
    "        self.no_examples, self.no_features = np.shape(X)\n",
    "        self.w = np.zeros(self.no_features)\n",
    "        fig, ax = plt.subplots()\n",
    "\n",
    "        for ii in range(0, self.max_iter):\n",
    "            w_updated = False\n",
    "            for jj in range(0, self.no_examples):\n",
    "                a = self.b + np.dot(self.w, X[ jj ])\n",
    "                if np.sign(Y[ jj ] * a) != 1:\n",
    "                    w_updated = True\n",
    "                    self.w += Y[ jj ] * X[ jj ]\n",
    "                    self.b += Y[ jj ]\n",
    "\n",
    "            #self.drawHyperplane(X,Y,ax)\n",
    "            \n",
    "            if not w_updated:\n",
    "                print(\"Convergence reached in %i iterations.\" % ii)\n",
    "                break\n",
    "\n",
    "    def classify_element( self, x_elem ):\n",
    "        return int(np.sign(self.b + np.dot(self.w, x_elem)))\n",
    "\n",
    "    def classify( self, X ):\n",
    "        predicted_Y = [ ]\n",
    "        for ii in range(np.shape(X)[ 0 ]):\n",
    "            y_elem = self.classify_element(X[ ii ])\n",
    "            predicted_Y.append(y_elem)\n",
    "        return predicted_Y\n",
    "    \n",
    "    def drawHyperplane(self,X,Y,ax):\n",
    "\n",
    "        a = -p.w[ 0 ] / float(p.w[ 1 ])\n",
    "        xx = np.linspace(1, 10)\n",
    "        yy = a * xx - p.b / p.w[ 1 ]\n",
    "        col = np.where(Y > 0, 'b', 'r')\n",
    "        ax.cla()\n",
    "        ax.scatter(X[ :, 0 ], X[ :, 1 ], c=col, s=10)\n",
    "        ax.plot(xx, yy, 'k-')\n",
    "        plt.xlabel('Feature 1')\n",
    "        plt.ylabel('Feature 2')\n",
    "        plt.axis('tight')\n",
    "        plt.pause(0.1)"
   ]
  },
  {
   "cell_type": "code",
   "execution_count": null,
   "metadata": {
    "collapsed": true
   },
   "outputs": [],
   "source": []
  },
  {
   "cell_type": "code",
   "execution_count": 40,
   "metadata": {
    "scrolled": false
   },
   "outputs": [
    {
     "data": {
      "image/png": "[encoded data removed]",
      "text/plain": [
       "<matplotlib.figure.Figure at 0x7f1fd6dbb668>"
      ]
     },
     "metadata": {},
     "output_type": "display_data"
    },
    {
     "name": "stdout",
     "output_type": "stream",
     "text": [
      "Convergence reached in 25 iterations.\n"
     ]
    },
    {
     "data": {
      "image/png": "[encoded data removed]",
      "text/plain": [
       "<matplotlib.figure.Figure at 0x7f1fd6d4dcc0>"
      ]
     },
     "metadata": {},
     "output_type": "display_data"
    }
   ],
   "source": [
    "def Visiualize(p,X,Y):\n",
    "    a = -p.w[ 0 ] / p.w[ 1 ]\n",
    "    xx = np.linspace(1, 10)\n",
    "    yy = a * xx - (p.b) / p.w[ 1 ]\n",
    "\n",
    "    col = np.where(Y > 0, 'b', 'r')\n",
    "    plt.scatter(X[ :, 0 ], X[ :, 1 ], c=col, s=10)\n",
    "    plt.plot()\n",
    "    plt.plot(xx, yy, 'k-')\n",
    "\n",
    "\n",
    "    plt.xlabel('Feature 1')\n",
    "    plt.ylabel('Feature 2')\n",
    "    plt.axis('tight')\n",
    "    plt.show()\n",
    "\n",
    "##Linearly sepearable Data\n",
    "X = np.array(\n",
    "\t[ [ 1, 4],\n",
    "\t  [ 3, 1],\n",
    "\t  [ 2.5, 3],\n",
    "\t  [ 4, 4],\n",
    "\t  [ 3, 5],\n",
    "\t  [ 5, 3],\n",
    "])\n",
    "\n",
    "Y = np.array([ -1, -1, -1, 1, 1, 1 ])\n",
    "col = np.where(Y>0,'b','r')\n",
    "plt.scatter(X[:,0],X[:,1],c=col,s=10)\n",
    "plt.xlabel('Feature 1')\n",
    "plt.ylabel('Feature 2')\n",
    "plt.axis('tight')\n",
    "plt.show()\n",
    "\n",
    "p = Perceptron()\n",
    "p.train(X, Y)\n",
    "\n",
    "Visiualize(p,X,Y)"
   ]
  }
 ],
 "metadata": {
  "kernelspec": {
   "display_name": "Python [conda root]",
   "language": "python",
   "name": "conda-root-py"
  },
  "language_info": {
   "codemirror_mode": {
    "name": "ipython",
    "version": 3
   },
   "file_extension": ".py",
   "mimetype": "text/x-python",
   "name": "python",
   "nbconvert_exporter": "python",
   "pygments_lexer": "ipython3",
   "version": "3.6.3"
  }
 },
 "nbformat": 4,
 "nbformat_minor": 2
}
